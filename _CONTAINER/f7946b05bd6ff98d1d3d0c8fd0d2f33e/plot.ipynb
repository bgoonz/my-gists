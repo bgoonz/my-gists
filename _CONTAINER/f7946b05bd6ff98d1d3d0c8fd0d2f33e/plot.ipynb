{
  "cells": [
    {
      "cell_type": "code",
      "execution_count": 1,
      "metadata": {
        "dotnet_interactive": {
          "language": "csharp"
        }
      },
      "source": [
        "players=(\"A\",\"B\",\"C\")"
      ],
      "outputs": []
    },
    {
      "cell_type": "code",
      "execution_count": 1,
      "metadata": {
        "dotnet_interactive": {
          "language": "csharp"
        }
      },
      "source": [
        "players"
      ],
      "outputs": [
        {
          "output_type": "execute_result",
          "data": {
            "text/plain": "('A', 'B', 'C')"
          },
          "execution_count": 1,
          "metadata": {}
        }
      ]
    },
    {
      "cell_type": "code",
      "execution_count": 1,
      "metadata": {
        "dotnet_interactive": {
          "language": "csharp"
        }
      },
      "source": [
        "print(players)"
      ],
      "outputs": [
        {
          "output_type": "execute_result",
          "data": {
            "text/plain": "('A', 'B', 'C')\n"
          },
          "execution_count": 1,
          "metadata": {}
        }
      ]
    },
    {
      "cell_type": "code",
      "execution_count": 1,
      "metadata": {
        "dotnet_interactive": {
          "language": "csharp"
        }
      },
      "source": [
        "print(\"players\")"
      ],
      "outputs": [
        {
          "output_type": "execute_result",
          "data": {
            "text/plain": "players\n"
          },
          "execution_count": 1,
          "metadata": {}
        }
      ]
    },
    {
      "cell_type": "code",
      "execution_count": 1,
      "metadata": {
        "dotnet_interactive": {
          "language": "csharp"
        }
      },
      "source": [
        "players.append(\"D\")"
      ],
      "outputs": [
        {
          "output_type": "error",
          "ename": "Error",
          "evalue": "[object Object]",
          "traceback": []
        }
      ]
    },
    {
      "cell_type": "code",
      "execution_count": 1,
      "metadata": {
        "dotnet_interactive": {
          "language": "csharp"
        }
      },
      "source": [
        "players.extend(\"D\")"
      ],
      "outputs": [
        {
          "output_type": "error",
          "ename": "Error",
          "evalue": "[object Object]",
          "traceback": []
        }
      ]
    },
    {
      "cell_type": "code",
      "execution_count": 1,
      "metadata": {
        "dotnet_interactive": {
          "language": "csharp"
        }
      },
      "source": [
        "players[0]"
      ],
      "outputs": [
        {
          "output_type": "execute_result",
          "data": {
            "text/plain": "'A'"
          },
          "execution_count": 1,
          "metadata": {}
        }
      ]
    },
    {
      "cell_type": "code",
      "execution_count": 1,
      "metadata": {
        "dotnet_interactive": {
          "language": "csharp"
        }
      },
      "source": [
        "players[:]"
      ],
      "outputs": [
        {
          "output_type": "execute_result",
          "data": {
            "text/plain": "('A', 'B', 'C')"
          },
          "execution_count": 1,
          "metadata": {}
        }
      ]
    },
    {
      "cell_type": "code",
      "execution_count": 1,
      "metadata": {
        "dotnet_interactive": {
          "language": "csharp"
        }
      },
      "source": [
        "players[-1]"
      ],
      "outputs": [
        {
          "output_type": "execute_result",
          "data": {
            "text/plain": "'C'"
          },
          "execution_count": 1,
          "metadata": {}
        }
      ]
    },
    {
      "cell_type": "code",
      "execution_count": 1,
      "metadata": {
        "dotnet_interactive": {
          "language": "csharp"
        }
      },
      "source": [
        "alfa=players"
      ],
      "outputs": []
    },
    {
      "cell_type": "code",
      "execution_count": 1,
      "metadata": {
        "dotnet_interactive": {
          "language": "csharp"
        }
      },
      "source": [
        "alfa"
      ],
      "outputs": [
        {
          "output_type": "execute_result",
          "data": {
            "text/plain": "('A', 'B', 'C')"
          },
          "execution_count": 1,
          "metadata": {}
        }
      ]
    },
    {
      "cell_type": "code",
      "execution_count": 1,
      "metadata": {
        "dotnet_interactive": {
          "language": "csharp"
        }
      },
      "source": [
        "type(alfa)"
      ],
      "outputs": [
        {
          "output_type": "error",
          "ename": "Error",
          "evalue": "[object Object]",
          "traceback": []
        }
      ]
    },
    {
      "cell_type": "code",
      "execution_count": 1,
      "metadata": {
        "dotnet_interactive": {
          "language": "csharp"
        }
      },
      "source": [
        "players.list"
      ],
      "outputs": [
        {
          "output_type": "error",
          "ename": "Error",
          "evalue": "[object Object]",
          "traceback": []
        }
      ]
    },
    {
      "cell_type": "code",
      "execution_count": 1,
      "metadata": {
        "dotnet_interactive": {
          "language": "csharp"
        }
      },
      "source": [
        "z=list(players)"
      ],
      "outputs": []
    },
    {
      "cell_type": "code",
      "execution_count": 1,
      "metadata": {
        "dotnet_interactive": {
          "language": "csharp"
        }
      },
      "source": [
        "z"
      ],
      "outputs": [
        {
          "output_type": "execute_result",
          "data": {
            "text/plain": "['A', 'B', 'C']"
          },
          "execution_count": 1,
          "metadata": {}
        }
      ]
    },
    {
      "cell_type": "code",
      "execution_count": 1,
      "metadata": {
        "dotnet_interactive": {
          "language": "csharp"
        }
      },
      "source": [
        "z=alfa"
      ],
      "outputs": []
    },
    {
      "cell_type": "code",
      "execution_count": 1,
      "metadata": {
        "dotnet_interactive": {
          "language": "csharp"
        }
      },
      "source": [
        "players"
      ],
      "outputs": [
        {
          "output_type": "execute_result",
          "data": {
            "text/plain": "('A', 'B', 'C')"
          },
          "execution_count": 1,
          "metadata": {}
        }
      ]
    },
    {
      "cell_type": "code",
      "execution_count": 1,
      "metadata": {
        "dotnet_interactive": {
          "language": "csharp"
        }
      },
      "source": [
        "alfa"
      ],
      "outputs": [
        {
          "output_type": "execute_result",
          "data": {
            "text/plain": "('A', 'B', 'C')"
          },
          "execution_count": 1,
          "metadata": {}
        }
      ]
    },
    {
      "cell_type": "code",
      "execution_count": 1,
      "metadata": {
        "dotnet_interactive": {
          "language": "csharp"
        }
      },
      "source": [
        "z"
      ],
      "outputs": [
        {
          "output_type": "execute_result",
          "data": {
            "text/plain": "('A', 'B', 'C')"
          },
          "execution_count": 1,
          "metadata": {}
        }
      ]
    },
    {
      "cell_type": "code",
      "execution_count": 1,
      "metadata": {
        "dotnet_interactive": {
          "language": "csharp"
        }
      },
      "source": [
        "players=list(alfa)"
      ],
      "outputs": [
        {
          "output_type": "error",
          "ename": "Error",
          "evalue": "[object Object]",
          "traceback": []
        }
      ]
    },
    {
      "cell_type": "code",
      "execution_count": 1,
      "metadata": {
        "dotnet_interactive": {
          "language": "csharp"
        }
      },
      "source": [
        "players"
      ],
      "outputs": [
        {
          "output_type": "error",
          "ename": "Error",
          "evalue": "[object Object]",
          "traceback": []
        }
      ]
    },
    {
      "cell_type": "code",
      "execution_count": 1,
      "metadata": {
        "dotnet_interactive": {
          "language": "csharp"
        }
      },
      "source": [
        "alfa"
      ],
      "outputs": [
        {
          "output_type": "execute_result",
          "data": {
            "text/plain": "('A', 'B', 'C')"
          },
          "execution_count": 1,
          "metadata": {}
        }
      ]
    },
    {
      "cell_type": "code",
      "execution_count": 1,
      "metadata": {
        "dotnet_interactive": {
          "language": "csharp"
        }
      },
      "source": [
        "players.append(\"D\")"
      ],
      "outputs": []
    },
    {
      "cell_type": "code",
      "execution_count": 1,
      "metadata": {
        "dotnet_interactive": {
          "language": "csharp"
        }
      },
      "source": [
        "players"
      ],
      "outputs": [
        {
          "output_type": "execute_result",
          "data": {
            "text/plain": "['A', 'B', 'C', 'D']"
          },
          "execution_count": 1,
          "metadata": {}
        }
      ]
    },
    {
      "cell_type": "code",
      "execution_count": 1,
      "metadata": {
        "dotnet_interactive": {
          "language": "csharp"
        }
      },
      "source": [
        "alfa"
      ],
      "outputs": [
        {
          "output_type": "execute_result",
          "data": {
            "text/plain": "('A', 'B', 'C')"
          },
          "execution_count": 1,
          "metadata": {}
        }
      ]
    },
    {
      "cell_type": "code",
      "execution_count": 1,
      "metadata": {
        "dotnet_interactive": {
          "language": "csharp"
        }
      },
      "source": [
        "alfa.append(\"E\")"
      ],
      "outputs": [
        {
          "output_type": "error",
          "ename": "Error",
          "evalue": "[object Object]",
          "traceback": []
        }
      ]
    },
    {
      "cell_type": "markdown",
      "metadata": {},
      "source": [
        "### shallow copy"
      ]
    },
    {
      "cell_type": "code",
      "execution_count": 1,
      "metadata": {
        "dotnet_interactive": {
          "language": "csharp"
        }
      },
      "source": [
        "players"
      ],
      "outputs": [
        {
          "output_type": "error",
          "ename": "Error",
          "evalue": "[object Object]",
          "traceback": []
        }
      ]
    },
    {
      "cell_type": "code",
      "execution_count": 1,
      "metadata": {
        "dotnet_interactive": {
          "language": "csharp"
        }
      },
      "source": [
        "alfa"
      ],
      "outputs": [
        {
          "output_type": "execute_result",
          "data": {
            "text/plain": "('A', 'B', 'C')"
          },
          "execution_count": 1,
          "metadata": {}
        }
      ]
    },
    {
      "cell_type": "code",
      "execution_count": 1,
      "metadata": {
        "dotnet_interactive": {
          "language": "csharp"
        }
      },
      "source": [
        "players=alfa"
      ],
      "outputs": []
    },
    {
      "cell_type": "code",
      "execution_count": 1,
      "metadata": {
        "dotnet_interactive": {
          "language": "csharp"
        }
      },
      "source": [
        "alfa"
      ],
      "outputs": [
        {
          "output_type": "execute_result",
          "data": {
            "text/plain": "('A', 'B', 'C')"
          },
          "execution_count": 1,
          "metadata": {}
        }
      ]
    },
    {
      "cell_type": "code",
      "execution_count": 1,
      "metadata": {
        "dotnet_interactive": {
          "language": "csharp"
        }
      },
      "source": [
        "players=list(alfa)"
      ],
      "outputs": []
    },
    {
      "cell_type": "code",
      "execution_count": 1,
      "metadata": {
        "dotnet_interactive": {
          "language": "csharp"
        }
      },
      "source": [
        "alfa"
      ],
      "outputs": [
        {
          "output_type": "execute_result",
          "data": {
            "text/plain": "('A', 'B', 'C')"
          },
          "execution_count": 1,
          "metadata": {}
        }
      ]
    },
    {
      "cell_type": "code",
      "execution_count": 1,
      "metadata": {
        "dotnet_interactive": {
          "language": "csharp"
        }
      },
      "source": [
        "players"
      ],
      "outputs": [
        {
          "output_type": "execute_result",
          "data": {
            "text/plain": "['A', 'B', 'C']"
          },
          "execution_count": 1,
          "metadata": {}
        }
      ]
    },
    {
      "cell_type": "code",
      "execution_count": 1,
      "metadata": {
        "dotnet_interactive": {
          "language": "csharp"
        }
      },
      "source": [
        "players.append(\"E\")"
      ],
      "outputs": []
    },
    {
      "cell_type": "code",
      "execution_count": 1,
      "metadata": {
        "dotnet_interactive": {
          "language": "csharp"
        }
      },
      "source": [
        "players"
      ],
      "outputs": [
        {
          "output_type": "execute_result",
          "data": {
            "text/plain": "['A', 'B', 'C', 'E']"
          },
          "execution_count": 1,
          "metadata": {}
        }
      ]
    },
    {
      "cell_type": "code",
      "execution_count": 1,
      "metadata": {
        "dotnet_interactive": {
          "language": "csharp"
        }
      },
      "source": [
        "alfa"
      ],
      "outputs": [
        {
          "output_type": "execute_result",
          "data": {
            "text/plain": "('A', 'B', 'C')"
          },
          "execution_count": 1,
          "metadata": {}
        }
      ]
    },
    {
      "cell_type": "code",
      "execution_count": 1,
      "metadata": {
        "dotnet_interactive": {
          "language": "csharp"
        }
      },
      "source": [
        "alfa.append(\"G\")"
      ],
      "outputs": [
        {
          "output_type": "error",
          "ename": "Error",
          "evalue": "[object Object]",
          "traceback": []
        }
      ]
    },
    {
      "cell_type": "markdown",
      "metadata": {},
      "source": [
        "### Deep Copy"
      ]
    },
    {
      "cell_type": "code",
      "execution_count": 1,
      "metadata": {
        "dotnet_interactive": {
          "language": "csharp"
        }
      },
      "source": [
        "players=(alfa)"
      ],
      "outputs": [
        {
          "output_type": "error",
          "ename": "Error",
          "evalue": "[object Object]",
          "traceback": []
        }
      ]
    },
    {
      "cell_type": "code",
      "execution_count": 1,
      "metadata": {
        "dotnet_interactive": {
          "language": "csharp"
        }
      },
      "source": [
        "players"
      ],
      "outputs": [
        {
          "output_type": "execute_result",
          "data": {
            "text/plain": "['A', 'B', 'C', 'E']"
          },
          "execution_count": 1,
          "metadata": {}
        }
      ]
    },
    {
      "cell_type": "code",
      "execution_count": 1,
      "metadata": {
        "dotnet_interactive": {
          "language": "csharp"
        }
      },
      "source": [
        "team=[\"1\",\"2\",\"3\",\"4\",]"
      ],
      "outputs": []
    },
    {
      "cell_type": "code",
      "execution_count": 1,
      "metadata": {
        "dotnet_interactive": {
          "language": "csharp"
        }
      },
      "source": [
        "team"
      ],
      "outputs": [
        {
          "output_type": "execute_result",
          "data": {
            "text/plain": "['1', '2', '3', '4']"
          },
          "execution_count": 1,
          "metadata": {}
        }
      ]
    },
    {
      "cell_type": "code",
      "execution_count": 1,
      "metadata": {
        "dotnet_interactive": {
          "language": "csharp"
        }
      },
      "source": [
        "players=copy.deepcopy(team)"
      ],
      "outputs": [
        {
          "output_type": "error",
          "ename": "Error",
          "evalue": "[object Object]",
          "traceback": []
        }
      ]
    },
    {
      "cell_type": "code",
      "execution_count": 1,
      "metadata": {
        "dotnet_interactive": {
          "language": "csharp"
        }
      },
      "source": [
        "team=copy.deepcopy(AAA)"
      ],
      "outputs": [
        {
          "output_type": "error",
          "ename": "Error",
          "evalue": "[object Object]",
          "traceback": []
        }
      ]
    },
    {
      "cell_type": "code",
      "execution_count": 1,
      "metadata": {
        "dotnet_interactive": {
          "language": "csharp"
        }
      },
      "source": [
        "AAA=copy.deepcopy(team)"
      ],
      "outputs": [
        {
          "output_type": "error",
          "ename": "Error",
          "evalue": "[object Object]",
          "traceback": []
        }
      ]
    },
    {
      "cell_type": "code",
      "execution_count": 1,
      "metadata": {
        "dotnet_interactive": {
          "language": "csharp"
        }
      },
      "source": [
        "AB=[\"1\",\"2\",\"3\"]"
      ],
      "outputs": []
    },
    {
      "cell_type": "code",
      "execution_count": 1,
      "metadata": {
        "dotnet_interactive": {
          "language": "csharp"
        }
      },
      "source": [
        "CD=[\"a\",\"b\",\"c\"]"
      ],
      "outputs": []
    },
    {
      "cell_type": "code",
      "execution_count": 1,
      "metadata": {
        "dotnet_interactive": {
          "language": "csharp"
        }
      },
      "source": [
        "Z=list(AB)"
      ],
      "outputs": []
    },
    {
      "cell_type": "code",
      "execution_count": 1,
      "metadata": {
        "dotnet_interactive": {
          "language": "csharp"
        }
      },
      "source": [
        "Z"
      ],
      "outputs": [
        {
          "output_type": "execute_result",
          "data": {
            "text/plain": "['1', '2', '3']"
          },
          "execution_count": 1,
          "metadata": {}
        }
      ]
    },
    {
      "cell_type": "code",
      "execution_count": 1,
      "metadata": {
        "dotnet_interactive": {
          "language": "csharp"
        }
      },
      "source": [
        "AB.append(\"4\")"
      ],
      "outputs": []
    },
    {
      "cell_type": "code",
      "execution_count": 1,
      "metadata": {
        "dotnet_interactive": {
          "language": "csharp"
        }
      },
      "source": [
        "AB"
      ],
      "outputs": [
        {
          "output_type": "execute_result",
          "data": {
            "text/plain": "['1', '2', '3', '4']"
          },
          "execution_count": 1,
          "metadata": {}
        }
      ]
    },
    {
      "cell_type": "code",
      "execution_count": 1,
      "metadata": {
        "dotnet_interactive": {
          "language": "csharp"
        }
      },
      "source": [
        "Z"
      ],
      "outputs": [
        {
          "output_type": "execute_result",
          "data": {
            "text/plain": "['1', '2', '3']"
          },
          "execution_count": 1,
          "metadata": {}
        }
      ]
    },
    {
      "cell_type": "code",
      "execution_count": 1,
      "metadata": {
        "dotnet_interactive": {
          "language": "csharp"
        }
      },
      "source": [
        "import copy"
      ],
      "outputs": []
    },
    {
      "cell_type": "code",
      "execution_count": 1,
      "metadata": {
        "dotnet_interactive": {
          "language": "csharp"
        }
      },
      "source": [
        "E=copy.deepcopy(AB)"
      ],
      "outputs": []
    },
    {
      "cell_type": "code",
      "execution_count": 1,
      "metadata": {
        "dotnet_interactive": {
          "language": "csharp"
        }
      },
      "source": [
        "E"
      ],
      "outputs": [
        {
          "output_type": "execute_result",
          "data": {
            "text/plain": "['1', '2', '3', '4']"
          },
          "execution_count": 1,
          "metadata": {}
        }
      ]
    },
    {
      "cell_type": "code",
      "execution_count": 1,
      "metadata": {
        "dotnet_interactive": {
          "language": "csharp"
        }
      },
      "source": [
        "AB.append(4)"
      ],
      "outputs": []
    },
    {
      "cell_type": "code",
      "execution_count": 1,
      "metadata": {
        "dotnet_interactive": {
          "language": "csharp"
        }
      },
      "source": [
        "AB"
      ],
      "outputs": [
        {
          "output_type": "execute_result",
          "data": {
            "text/plain": "['1', '2', '3', '4', 4]"
          },
          "execution_count": 1,
          "metadata": {}
        }
      ]
    },
    {
      "cell_type": "code",
      "execution_count": 1,
      "metadata": {
        "dotnet_interactive": {
          "language": "csharp"
        }
      },
      "source": [
        "E"
      ],
      "outputs": [
        {
          "output_type": "execute_result",
          "data": {
            "text/plain": "['1', '2', '3', '4']"
          },
          "execution_count": 1,
          "metadata": {}
        }
      ]
    },
    {
      "cell_type": "code",
      "execution_count": 1,
      "metadata": {
        "dotnet_interactive": {
          "language": "csharp"
        }
      },
      "source": [
        "E.append(5)"
      ],
      "outputs": []
    },
    {
      "cell_type": "code",
      "execution_count": 1,
      "metadata": {
        "dotnet_interactive": {
          "language": "csharp"
        }
      },
      "source": [
        "F=tuple(E)"
      ],
      "outputs": []
    },
    {
      "cell_type": "code",
      "execution_count": 1,
      "metadata": {
        "dotnet_interactive": {
          "language": "csharp"
        }
      },
      "source": [
        "E"
      ],
      "outputs": [
        {
          "output_type": "execute_result",
          "data": {
            "text/plain": "['1', '2', '3', '4', 5]"
          },
          "execution_count": 1,
          "metadata": {}
        }
      ]
    },
    {
      "cell_type": "code",
      "execution_count": 1,
      "metadata": {
        "dotnet_interactive": {
          "language": "csharp"
        }
      },
      "source": [
        "F"
      ],
      "outputs": [
        {
          "output_type": "execute_result",
          "data": {
            "text/plain": "('1', '2', '3', '4', 5)"
          },
          "execution_count": 1,
          "metadata": {}
        }
      ]
    }
  ],
  "metadata": {
    "kernelspec": {
      "display_name": ".NET (C#)",
      "language": "C#",
      "name": ".net-csharp"
    },
    "language_info": {
      "file_extension": ".cs",
      "mimetype": "text/x-csharp",
      "name": "C#",
      "pygments_lexer": "csharp",
      "version": "8.0"
    }
  },
  "nbformat": 4,
  "nbformat_minor": 4
}